{
 "cells": [
  {
   "cell_type": "code",
   "execution_count": 1,
   "metadata": {},
   "outputs": [],
   "source": [
    "%matplotlib inline\n",
    "import numpy as np\n",
    "import pandas as pd\n",
    "import seaborn as sns\n",
    "from matplotlib import pylab as plt\n",
    "import copy\n",
    "import joblib\n",
    "\n",
    "# sklearn\n",
    "from sklearn.preprocessing import StandardScaler\n",
    "from sklearn.decomposition import PCA\n",
    "# from sklearn.model_selection import StratifiedShuffleSplit"
   ]
  },
  {
   "cell_type": "code",
   "execution_count": 2,
   "metadata": {},
   "outputs": [],
   "source": [
    "train = pd.read_csv(\"train.csv\")\n",
    "test = pd.read_csv(\"test.csv\")\n",
    "data = pd.concat([train,test])\n",
    "data['LeadStatus'] = data['LeadStatus'].replace({\"Passed\":0, \"Flagged\":1, \"Assign to CS\":1})\n",
    "first_visit = data[data['VisitDay'] == 0]"
   ]
  },
  {
   "cell_type": "code",
   "execution_count": 15,
   "metadata": {},
   "outputs": [],
   "source": [
    "X = first_visit.values[:, 8:38]\n",
    "X_org = data.values[:, 8:38]\n",
    "X_colnames = data.columns[8:38]"
   ]
  },
  {
   "cell_type": "code",
   "execution_count": 16,
   "metadata": {},
   "outputs": [],
   "source": [
    "ss_X = StandardScaler()\n",
    "X = ss_X.fit_transform(X)\n",
    "plt.close('all')"
   ]
  },
  {
   "cell_type": "code",
   "execution_count": 5,
   "metadata": {},
   "outputs": [],
   "source": [
    "# # make item names pretty\n",
    "# i_n = pd.read_excel('name_items.xlsx')\n",
    "# items_array = i_n.values[:, 0:30]\n",
    "# items_num = []\n",
    "# items_name = []\n",
    "# items = []\n",
    "# for i in items_array:\n",
    "#     items_num.append(i[0].encode('ascii', 'ignore'))\n",
    "#     items_name.append(i[1].encode('ascii', 'ignore'))\n",
    "#     items.append([i[1].encode('ascii', 'ignore')+' '+'('+i[0].encode('ascii', 'ignore')+')'])\n",
    "# # take off coma\n",
    "# X_ticks1 = []\n",
    "# for i in items:\n",
    "#     x = \",\".join(i)\n",
    "#     X_ticks1.append(x)\n",
    "# X_ticks = X_ticks1\n",
    "# X_ticks[12] = \"Lack of spontaneity (N6)\""
   ]
  },
  {
   "cell_type": "code",
   "execution_count": 17,
   "metadata": {},
   "outputs": [
    {
     "name": "stdout",
     "output_type": "stream",
     "text": [
      "[0.14714042 0.13521312 0.08502209 0.05983032 0.05492215]\n",
      "0.4821280943173563\n"
     ]
    }
   ],
   "source": [
    "# PCA 5 components\n",
    "decomposer = PCA(n_components=5, random_state=64)\n",
    "X_comp = decomposer.fit_transform(X)\n",
    "print (decomposer.explained_variance_ratio_)\n",
    "print(sum(decomposer.explained_variance_ratio_))"
   ]
  },
  {
   "cell_type": "code",
   "execution_count": 7,
   "metadata": {},
   "outputs": [
    {
     "name": "stdout",
     "output_type": "stream",
     "text": [
      "(20947, 30) (20947, 5)\n"
     ]
    }
   ],
   "source": [
    "print(X.shape, X_comp.shape)"
   ]
  },
  {
   "cell_type": "code",
   "execution_count": 18,
   "metadata": {},
   "outputs": [
    {
     "data": {
      "image/png": "[encoded data removed]",
      "text/plain": [
       "<Figure size 1080x720 with 2 Axes>"
      ]
     },
     "metadata": {
      "needs_background": "light"
     },
     "output_type": "display_data"
    }
   ],
   "source": [
    "# visualization\n",
    "\n",
    "# center the x ticks\n",
    "def rotateTickLabels(ax, rotation, which, rotation_mode='anchor', ha='left'):\n",
    "    axes = []\n",
    "    if which in ['x', 'both']:\n",
    "        axes.append(ax.xaxis)\n",
    "    elif which in ['y', 'both']:\n",
    "        axes.append(ax.yaxis)\n",
    "    for axis in axes:\n",
    "        for t in axis.get_ticklabels():\n",
    "            t.set_horizontalalignment(ha)\n",
    "            t.set_rotation(rotation)\n",
    "            t.set_rotation_mode(rotation_mode)\n",
    "            \n",
    "\n",
    "f, ax = plt.subplots(figsize=(15, 10))\n",
    "sns.heatmap(decomposer.components_, cmap='RdBu_r', square=True, cbar_kws={\"shrink\": .25})\n",
    "ax.xaxis.set_ticks_position('top')\n",
    "rotateTickLabels(ax, 45, 'x')\n",
    "ax.xaxis.set_ticklabels(X_colnames, fontsize=12)\n",
    "y_ticks = ['%.2f%%' % ev for ev in np.round(decomposer.explained_variance_ratio_*100, decimals=2)]\n",
    "ax.yaxis.set_ticklabels(y_ticks, fontsize=12, rotation=0)\n",
    "plt.ylabel('Components', fontsize=12)\n",
    "plt.tight_layout()\n",
    "plt.savefig('plots/PCA_final.png')\n",
    "plt.show()"
   ]
  },
  {
   "cell_type": "code",
   "execution_count": null,
   "metadata": {},
   "outputs": [],
   "source": []
  },
  {
   "cell_type": "code",
   "execution_count": null,
   "metadata": {},
   "outputs": [],
   "source": []
  }
 ],
 "metadata": {
  "kernelspec": {
   "display_name": "Python 3",
   "language": "python",
   "name": "python3"
  },
  "language_info": {
   "codemirror_mode": {
    "name": "ipython",
    "version": 3
   },
   "file_extension": ".py",
   "mimetype": "text/x-python",
   "name": "python",
   "nbconvert_exporter": "python",
   "pygments_lexer": "ipython3",
   "version": "3.7.4"
  }
 },
 "nbformat": 4,
 "nbformat_minor": 2
}
