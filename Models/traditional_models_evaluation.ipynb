{
 "cells": [
  {
   "cell_type": "code",
   "execution_count": 1,
   "metadata": {},
   "outputs": [],
   "source": [
    "import pandas as pd\n",
    "import numpy as np\n",
    "import matplotlib.pyplot as plt\n",
    "from matplotlib.legend_handler import HandlerLine2D\n",
    "\n",
    "from sklearn.metrics import classification_report, f1_score, roc_curve, auc\n",
    "from sklearn.neighbors import KNeighborsClassifier\n",
    "from sklearn.preprocessing import StandardScaler\n",
    "from sklearn.decomposition import PCA\n",
    "from sklearn.linear_model import LogisticRegression\n",
    "from sklearn.naive_bayes import GaussianNB\n",
    "from sklearn.svm import SVC\n",
    "from sklearn.ensemble import RandomForestClassifier\n",
    "from sklearn.preprocessing import normalize\n",
    "from sklearn.utils import resample\n",
    "from sklearn.model_selection import GridSearchCV\n"
   ]
  },
  {
   "cell_type": "code",
   "execution_count": 2,
   "metadata": {},
   "outputs": [],
   "source": [
    "train = pd.read_csv(\"train.csv\")\n",
    "test = pd.read_csv(\"test.csv\")\n",
    "train['LeadStatus'] = train['LeadStatus'].replace({\"Passed\":0, \"Flagged\":1, \"Assign to CS\":1})\n",
    "test['LeadStatus'] = test['LeadStatus'].replace({\"Passed\":0, \"Flagged\":1, \"Assign to CS\":1})\n",
    "# train = train.drop(train[train['Country'] == 'ERROR'].index)\n",
    "# test = test.drop(test[test['Country'] == 'ERROR'].index)"
   ]
  },
  {
   "cell_type": "code",
   "execution_count": 3,
   "metadata": {},
   "outputs": [],
   "source": [
    "def compare_last(row):\n",
    "    pId = row['PatientID']\n",
    "    # get all records of the same patient and sort by visit day.\n",
    "    patient = train[train.PatientID == pId].sort_values(by='VisitDay', ascending=True).reset_index(drop=True)\n",
    "    if patient.shape[0] == 0:\n",
    "        patient = test[test.PatientID == pId].sort_values(by='VisitDay', ascending=True).reset_index(drop=True)\n",
    "    # get the index of the record that current row represents\n",
    "    current = patient[patient.VisitDay == row['VisitDay']].index.values[0]\n",
    "    if current == 0: # if it's the first time visiting\n",
    "        return 0\n",
    "    else: # return the difference between the current panss total and last time panss total.\n",
    "        return row['PANSS_Total'] - patient.loc[current-1,'PANSS_Total']\n",
    "    \n",
    "\n",
    "train_comp_last = train.copy()\n",
    "test_comp_last = test.copy()\n",
    "train_comp_last['TotalCompareLastTime'] = train_comp_last.apply(compare_last, axis=1)\n",
    "test_comp_last['TotalCompareLastTime'] = test_comp_last.apply(compare_last, axis=1)"
   ]
  },
  {
   "cell_type": "code",
   "execution_count": 4,
   "metadata": {},
   "outputs": [],
   "source": [
    "X_train = train.iloc[:, 7:38]\n",
    "X_test = test.iloc[:, 7:38]\n",
    "\n",
    "y_train = train['LeadStatus']\n",
    "y_test = test['LeadStatus']\n",
    "\n",
    "X_colnames = train.columns[7:38]\n",
    "X_train_org = train.values[:, 7:38]\n",
    "X_test_org = test.values[:, 7:38]\n",
    "\n",
    "X_train_delta = pd.concat([X_train,train_comp_last.TotalCompareLastTime], axis=1)\n",
    "X_test_delta = pd.concat([X_test,test_comp_last.TotalCompareLastTime], axis=1)\n",
    "\n",
    "\n",
    "# upsamling minority class\n",
    "X = pd.concat([X_train, y_train], axis=1)\n",
    "\n",
    "not_fraud = X[X['LeadStatus']==0]\n",
    "fraud = X[X['LeadStatus']==1]\n",
    "\n",
    "fraud_upsampled = resample(fraud,\n",
    "                           replace=True, # sample with replacement\n",
    "                           n_samples=len(not_fraud), # match number in majority class\n",
    "                           random_state=27) # reproducible results\n",
    "upsampled = pd.concat([not_fraud, fraud_upsampled])\n",
    "y_train_upsampled = upsampled.LeadStatus\n",
    "X_train_upsampled = upsampled.drop('LeadStatus', axis=1)\n",
    "\n",
    "X = pd.concat([X_train_delta, y_train], axis=1)\n",
    "\n",
    "not_fraud = X[X['LeadStatus']==0]\n",
    "fraud = X[X['LeadStatus']==1]\n",
    "\n",
    "fraud_upsampled = resample(fraud,\n",
    "                           replace=True, # sample with replacement\n",
    "                           n_samples=len(not_fraud), # match number in majority class\n",
    "                           random_state=27) # reproducible results\n",
    "upsampled = pd.concat([not_fraud, fraud_upsampled])\n",
    "y_train_delta_upsampled = upsampled.LeadStatus\n",
    "X_train_delta_upsampled = upsampled.drop('LeadStatus', axis=1)\n",
    "\n",
    "# Standarization\n",
    "ss_X = StandardScaler()\n",
    "X_train = ss_X.fit_transform(X_train)\n",
    "X_test = ss_X.fit_transform(X_test)\n",
    "X_test_delta = ss_X.fit_transform(X_test_delta)\n",
    "X_train_upsampled = ss_X.fit_transform(X_train_upsampled)\n",
    "X_train_delta = ss_X.fit_transform(X_train_delta)\n",
    "X_train_delta_upsampled = ss_X.fit_transform(X_train_delta_upsampled)\n",
    "\n",
    "\n",
    "\n",
    "#PCA\n",
    "decomposer = PCA(n_components=20, random_state=42,)\n",
    "X_train_comp = decomposer.fit_transform(X_train)\n",
    "X_train_upsampled_comp = decomposer.fit_transform(X_train_upsampled)\n",
    "X_test_comp = decomposer.fit_transform(X_test)\n",
    "\n",
    "X_test_comp = X_test_comp[:,decomposer.explained_variance_ratio_>0.02]\n",
    "X_train_comp = X_train_comp[:,decomposer.explained_variance_ratio_>0.02]\n",
    "X_train_upsampled_comp = X_train_upsampled_comp[:,decomposer.explained_variance_ratio_>0.02]"
   ]
  },
  {
   "cell_type": "code",
   "execution_count": 5,
   "metadata": {},
   "outputs": [
    {
     "name": "stdout",
     "output_type": "stream",
     "text": [
      "(16799, 31)\n",
      "(25430, 31)\n",
      "(16799, 32)\n",
      "(25430, 32)\n",
      "(4148, 31)\n",
      "(4148, 32)\n"
     ]
    }
   ],
   "source": [
    "print(X_train.shape)\n",
    "print(X_train_upsampled.shape)\n",
    "print(X_train_delta.shape)\n",
    "print(X_train_delta_upsampled.shape)\n",
    "print(X_test.shape)\n",
    "print(X_test_delta.shape)"
   ]
  },
  {
   "cell_type": "code",
   "execution_count": 6,
   "metadata": {},
   "outputs": [],
   "source": [
    "def fit_model(model, x_train, y_train, x_test, y_test):\n",
    "    '''\n",
    "    x_train: pd.DataFrame\n",
    "    y_train: pd.Series\n",
    "    return: None\n",
    "    print: precision, recall, f1, accuracy\n",
    "    '''\n",
    "    from warnings import simplefilter\n",
    "    import time\n",
    "    simplefilter(action='ignore', category=FutureWarning)\n",
    "    \n",
    "    start = time.time()\n",
    "    model.fit(x_train, y_train)\n",
    "    stop = time.time()\n",
    "    print('Training took {:3.2f} seconds.'.format(stop-start))\n",
    "    y_pred = model.predict(x_test)\n",
    "    print(classification_report(y_test, y_pred))"
   ]
  },
  {
   "cell_type": "code",
   "execution_count": 34,
   "metadata": {},
   "outputs": [
    {
     "name": "stdout",
     "output_type": "stream",
     "text": [
      "Features: Index(['VisitDay', 'P1', 'P2', 'P3', 'P4', 'P5', 'P6', 'P7', 'N1', 'N2', 'N3',\n",
      "       'N4', 'N5', 'N6', 'N7', 'G1', 'G2', 'G3', 'G4', 'G5', 'G6', 'G7', 'G8',\n",
      "       'G9', 'G10', 'G11', 'G12', 'G13', 'G14', 'G15', 'G16'],\n",
      "      dtype='object').\n",
      "\n",
      "standarization\n",
      "Logistic Regression\n",
      "Training took 0.08 seconds.\n",
      "              precision    recall  f1-score   support\n",
      "\n",
      "           0       0.77      0.98      0.86      3126\n",
      "           1       0.62      0.10      0.17      1022\n",
      "\n",
      "    accuracy                           0.76      4148\n",
      "   macro avg       0.70      0.54      0.51      4148\n",
      "weighted avg       0.73      0.76      0.69      4148\n",
      "\n",
      "Naive Bayes\n",
      "Training took 0.01 seconds.\n",
      "              precision    recall  f1-score   support\n",
      "\n",
      "           0       0.80      0.80      0.80      3126\n",
      "           1       0.40      0.41      0.40      1022\n",
      "\n",
      "    accuracy                           0.70      4148\n",
      "   macro avg       0.60      0.60      0.60      4148\n",
      "weighted avg       0.70      0.70      0.70      4148\n",
      "\n",
      "Random Forest\n",
      "Training took 0.13 seconds.\n",
      "              precision    recall  f1-score   support\n",
      "\n",
      "           0       0.77      0.94      0.85      3126\n",
      "           1       0.47      0.16      0.24      1022\n",
      "\n",
      "    accuracy                           0.75      4148\n",
      "   macro avg       0.62      0.55      0.55      4148\n",
      "weighted avg       0.70      0.75      0.70      4148\n",
      "\n",
      "SVM\n",
      "Training took 8.51 seconds.\n",
      "              precision    recall  f1-score   support\n",
      "\n",
      "           0       0.79      0.97      0.87      3126\n",
      "           1       0.66      0.19      0.30      1022\n",
      "\n",
      "    accuracy                           0.78      4148\n",
      "   macro avg       0.72      0.58      0.58      4148\n",
      "weighted avg       0.75      0.78      0.73      4148\n",
      "\n",
      "KNN\n",
      "Training took 0.12 seconds.\n",
      "              precision    recall  f1-score   support\n",
      "\n",
      "           0       0.78      0.89      0.83      3126\n",
      "           1       0.41      0.23      0.30      1022\n",
      "\n",
      "    accuracy                           0.73      4148\n",
      "   macro avg       0.60      0.56      0.57      4148\n",
      "weighted avg       0.69      0.73      0.70      4148\n",
      "\n"
     ]
    }
   ],
   "source": [
    "model_names = ['Logistic Regression', 'Naive Bayes', 'Random Forest', 'SVM', 'KNN']\n",
    "models = [LogisticRegression(), GaussianNB(), RandomForestClassifier(), SVC(), KNeighborsClassifier(n_neighbors=5)]\n",
    "print(\"Features: {}.\\n\".format(X_colnames))\n",
    "print(\"standarization\")\n",
    "for i in range(len(model_names)):\n",
    "    print(model_names[i])\n",
    "    fit_model(models[i], X_train, y_train, X_test, y_test)"
   ]
  },
  {
   "cell_type": "code",
   "execution_count": 102,
   "metadata": {},
   "outputs": [
    {
     "name": "stdout",
     "output_type": "stream",
     "text": [
      "Features: Index(['VisitDay', 'P1', 'P2', 'P3', 'P4', 'P5', 'P6', 'P7', 'N1', 'N2', 'N3',\n",
      "       'N4', 'N5', 'N6', 'N7', 'G1', 'G2', 'G3', 'G4', 'G5', 'G6', 'G7', 'G8',\n",
      "       'G9', 'G10', 'G11', 'G12', 'G13', 'G14', 'G15', 'G16'],\n",
      "      dtype='object').\n",
      "\n",
      "delta\n",
      "Logistic Regression\n",
      "Training took 0.05 seconds.\n",
      "              precision    recall  f1-score   support\n",
      "\n",
      "           0       0.77      0.98      0.86      3126\n",
      "           1       0.62      0.10      0.17      1022\n",
      "\n",
      "    accuracy                           0.76      4148\n",
      "   macro avg       0.70      0.54      0.51      4148\n",
      "weighted avg       0.73      0.76      0.69      4148\n",
      "\n",
      "Naive Bayes\n",
      "Training took 0.01 seconds.\n",
      "              precision    recall  f1-score   support\n",
      "\n",
      "           0       0.81      0.80      0.80      3126\n",
      "           1       0.40      0.41      0.40      1022\n",
      "\n",
      "    accuracy                           0.70      4148\n",
      "   macro avg       0.60      0.60      0.60      4148\n",
      "weighted avg       0.71      0.70      0.70      4148\n",
      "\n",
      "Random Forest\n",
      "Training took 0.15 seconds.\n",
      "              precision    recall  f1-score   support\n",
      "\n",
      "           0       0.78      0.95      0.86      3126\n",
      "           1       0.55      0.20      0.30      1022\n",
      "\n",
      "    accuracy                           0.76      4148\n",
      "   macro avg       0.67      0.57      0.58      4148\n",
      "weighted avg       0.73      0.76      0.72      4148\n",
      "\n",
      "SVM\n",
      "Training took 8.57 seconds.\n",
      "              precision    recall  f1-score   support\n",
      "\n",
      "           0       0.79      0.96      0.87      3126\n",
      "           1       0.63      0.20      0.30      1022\n",
      "\n",
      "    accuracy                           0.77      4148\n",
      "   macro avg       0.71      0.58      0.59      4148\n",
      "weighted avg       0.75      0.77      0.73      4148\n",
      "\n",
      "KNN\n",
      "Training took 0.03 seconds.\n",
      "              precision    recall  f1-score   support\n",
      "\n",
      "           0       0.78      0.90      0.84      3126\n",
      "           1       0.43      0.23      0.30      1022\n",
      "\n",
      "    accuracy                           0.73      4148\n",
      "   macro avg       0.61      0.57      0.57      4148\n",
      "weighted avg       0.70      0.73      0.71      4148\n",
      "\n"
     ]
    }
   ],
   "source": [
    "model_names = ['Logistic Regression', 'Naive Bayes', 'Random Forest', 'SVM', 'KNN']\n",
    "models = [LogisticRegression(), GaussianNB(), RandomForestClassifier(), SVC(), KNeighborsClassifier(n_neighbors=5)]\n",
    "print(\"Features: {}.\\n\".format(X_colnames))\n",
    "print(\"delta\")\n",
    "for i in range(len(model_names)):\n",
    "    print(model_names[i])\n",
    "    fit_model(models[i], X_train_delta, y_train, X_test_delta, y_test)"
   ]
  },
  {
   "cell_type": "code",
   "execution_count": 101,
   "metadata": {},
   "outputs": [
    {
     "name": "stdout",
     "output_type": "stream",
     "text": [
      "Features: Index(['VisitDay', 'P1', 'P2', 'P3', 'P4', 'P5', 'P6', 'P7', 'N1', 'N2', 'N3',\n",
      "       'N4', 'N5', 'N6', 'N7', 'G1', 'G2', 'G3', 'G4', 'G5', 'G6', 'G7', 'G8',\n",
      "       'G9', 'G10', 'G11', 'G12', 'G13', 'G14', 'G15', 'G16'],\n",
      "      dtype='object').\n",
      "\n",
      "with delta and upsampling\n",
      "Logistic Regression\n",
      "Training took 0.07 seconds.\n",
      "              precision    recall  f1-score   support\n",
      "\n",
      "           0       0.84      0.56      0.67      3126\n",
      "           1       0.33      0.67      0.44      1022\n",
      "\n",
      "    accuracy                           0.58      4148\n",
      "   macro avg       0.58      0.61      0.56      4148\n",
      "weighted avg       0.71      0.58      0.61      4148\n",
      "\n",
      "Naive Bayes\n",
      "Training took 0.01 seconds.\n",
      "              precision    recall  f1-score   support\n",
      "\n",
      "           0       0.82      0.68      0.74      3126\n",
      "           1       0.36      0.55      0.43      1022\n",
      "\n",
      "    accuracy                           0.65      4148\n",
      "   macro avg       0.59      0.61      0.59      4148\n",
      "weighted avg       0.71      0.65      0.67      4148\n",
      "\n",
      "Random Forest\n",
      "Training took 0.19 seconds.\n",
      "              precision    recall  f1-score   support\n",
      "\n",
      "           0       0.79      0.92      0.85      3126\n",
      "           1       0.49      0.23      0.31      1022\n",
      "\n",
      "    accuracy                           0.75      4148\n",
      "   macro avg       0.64      0.58      0.58      4148\n",
      "weighted avg       0.71      0.75      0.72      4148\n",
      "\n",
      "SVM\n",
      "Training took 27.82 seconds.\n",
      "              precision    recall  f1-score   support\n",
      "\n",
      "           0       0.85      0.72      0.78      3126\n",
      "           1       0.42      0.61      0.50      1022\n",
      "\n",
      "    accuracy                           0.70      4148\n",
      "   macro avg       0.63      0.67      0.64      4148\n",
      "weighted avg       0.74      0.70      0.71      4148\n",
      "\n",
      "KNN\n",
      "Training took 0.07 seconds.\n",
      "              precision    recall  f1-score   support\n",
      "\n",
      "           0       0.81      0.66      0.73      3126\n",
      "           1       0.33      0.52      0.40      1022\n",
      "\n",
      "    accuracy                           0.62      4148\n",
      "   macro avg       0.57      0.59      0.57      4148\n",
      "weighted avg       0.69      0.62      0.65      4148\n",
      "\n"
     ]
    }
   ],
   "source": [
    "model_names = ['Logistic Regression', 'Naive Bayes', 'Random Forest', 'SVM', 'KNN']\n",
    "models = [LogisticRegression(), GaussianNB(), RandomForestClassifier(), SVC(), KNeighborsClassifier(n_neighbors=5)]\n",
    "print(\"Features: {}.\\n\".format(X_colnames))\n",
    "print(\"delta and upsampling\")\n",
    "for i in range(len(model_names)):\n",
    "    print(model_names[i])\n",
    "    fit_model(models[i], X_train_delta_upsampled, y_train_upsampled, X_test_delta, y_test)"
   ]
  },
  {
   "cell_type": "code",
   "execution_count": 86,
   "metadata": {},
   "outputs": [
    {
     "name": "stdout",
     "output_type": "stream",
     "text": [
      "Features: Index(['VisitDay', 'P1', 'P2', 'P3', 'P4', 'P5', 'P6', 'P7', 'N1', 'N2', 'N3',\n",
      "       'N4', 'N5', 'N6', 'N7', 'G1', 'G2', 'G3', 'G4', 'G5', 'G6', 'G7', 'G8',\n",
      "       'G9', 'G10', 'G11', 'G12', 'G13', 'G14', 'G15', 'G16'],\n",
      "      dtype='object').\n",
      "\n",
      "Class Weight\n",
      "Logistic Regression\n",
      "Training took 0.05 seconds.\n",
      "              precision    recall  f1-score   support\n",
      "\n",
      "           0       0.83      0.65      0.72      3126\n",
      "           1       0.35      0.58      0.44      1022\n",
      "\n",
      "    accuracy                           0.63      4148\n",
      "   macro avg       0.59      0.61      0.58      4148\n",
      "weighted avg       0.71      0.63      0.65      4148\n",
      "\n",
      "SVM\n",
      "Training took 11.73 seconds.\n",
      "              precision    recall  f1-score   support\n",
      "\n",
      "           0       0.85      0.74      0.79      3126\n",
      "           1       0.44      0.61      0.51      1022\n",
      "\n",
      "    accuracy                           0.71      4148\n",
      "   macro avg       0.64      0.68      0.65      4148\n",
      "weighted avg       0.75      0.71      0.72      4148\n",
      "\n"
     ]
    }
   ],
   "source": [
    "model_names = ['Logistic Regression', 'SVM']\n",
    "models = [LogisticRegression(class_weight = {1:0.75,0:0.25}), SVC(class_weight = {1:0.75,0:0.25})]\n",
    "print(\"Features: {}.\\n\".format(X_colnames))\n",
    "print(\"Class Weight\")\n",
    "for i in range(len(model_names)):\n",
    "    print(model_names[i])\n",
    "    fit_model(models[i], X_train, y_train, X_test, y_test)"
   ]
  },
  {
   "cell_type": "code",
   "execution_count": 36,
   "metadata": {},
   "outputs": [
    {
     "name": "stdout",
     "output_type": "stream",
     "text": [
      "Features: Index(['VisitDay', 'P1', 'P2', 'P3', 'P4', 'P5', 'P6', 'P7', 'N1', 'N2', 'N3',\n",
      "       'N4', 'N5', 'N6', 'N7', 'G1', 'G2', 'G3', 'G4', 'G5', 'G6', 'G7', 'G8',\n",
      "       'G9', 'G10', 'G11', 'G12', 'G13', 'G14', 'G15', 'G16'],\n",
      "      dtype='object').\n",
      "\n",
      "upsampled + standarization\n",
      "Logistic Regression\n",
      "Training took 0.07 seconds.\n",
      "              precision    recall  f1-score   support\n",
      "\n",
      "           0       0.84      0.56      0.67      3126\n",
      "           1       0.33      0.67      0.44      1022\n",
      "\n",
      "    accuracy                           0.59      4148\n",
      "   macro avg       0.58      0.61      0.56      4148\n",
      "weighted avg       0.71      0.59      0.61      4148\n",
      "\n",
      "Naive Bayes\n",
      "Training took 0.01 seconds.\n",
      "              precision    recall  f1-score   support\n",
      "\n",
      "           0       0.82      0.68      0.74      3126\n",
      "           1       0.35      0.54      0.43      1022\n",
      "\n",
      "    accuracy                           0.64      4148\n",
      "   macro avg       0.59      0.61      0.58      4148\n",
      "weighted avg       0.70      0.64      0.66      4148\n",
      "\n",
      "Random Forest\n",
      "Training took 0.18 seconds.\n",
      "              precision    recall  f1-score   support\n",
      "\n",
      "           0       0.78      0.92      0.85      3126\n",
      "           1       0.48      0.22      0.30      1022\n",
      "\n",
      "    accuracy                           0.75      4148\n",
      "   macro avg       0.63      0.57      0.58      4148\n",
      "weighted avg       0.71      0.75      0.71      4148\n",
      "\n",
      "SVM\n",
      "Training took 29.74 seconds.\n",
      "              precision    recall  f1-score   support\n",
      "\n",
      "           0       0.84      0.72      0.78      3126\n",
      "           1       0.41      0.59      0.48      1022\n",
      "\n",
      "    accuracy                           0.69      4148\n",
      "   macro avg       0.62      0.65      0.63      4148\n",
      "weighted avg       0.74      0.69      0.70      4148\n",
      "\n",
      "KNN\n",
      "Training took 0.07 seconds.\n",
      "              precision    recall  f1-score   support\n",
      "\n",
      "           0       0.80      0.66      0.72      3126\n",
      "           1       0.33      0.51      0.40      1022\n",
      "\n",
      "    accuracy                           0.62      4148\n",
      "   macro avg       0.57      0.58      0.56      4148\n",
      "weighted avg       0.69      0.62      0.64      4148\n",
      "\n"
     ]
    }
   ],
   "source": [
    "model_names = ['Logistic Regression', 'Naive Bayes', 'Random Forest', 'SVM', 'KNN']\n",
    "models = [LogisticRegression(), GaussianNB(), RandomForestClassifier(), SVC(), KNeighborsClassifier(n_neighbors=5)]\n",
    "print(\"Features: {}.\\n\".format(X_colnames))\n",
    "print(\"upsampled + standarization\")\n",
    "for i in range(len(model_names)):\n",
    "    print(model_names[i])\n",
    "    fit_model(models[i], X_train_upsampled, y_train_upsampled, X_test, y_test)"
   ]
  },
  {
   "cell_type": "code",
   "execution_count": 37,
   "metadata": {},
   "outputs": [
    {
     "name": "stdout",
     "output_type": "stream",
     "text": [
      "Features: Index(['VisitDay', 'P1', 'P2', 'P3', 'P4', 'P5', 'P6', 'P7', 'N1', 'N2', 'N3',\n",
      "       'N4', 'N5', 'N6', 'N7', 'G1', 'G2', 'G3', 'G4', 'G5', 'G6', 'G7', 'G8',\n",
      "       'G9', 'G10', 'G11', 'G12', 'G13', 'G14', 'G15', 'G16'],\n",
      "      dtype='object').\n",
      "\n",
      "PCA\n",
      "Logistic Regression\n",
      "Training took 0.02 seconds.\n",
      "              precision    recall  f1-score   support\n",
      "\n",
      "           0       0.76      0.97      0.85      3126\n",
      "           1       0.37      0.05      0.09      1022\n",
      "\n",
      "    accuracy                           0.74      4148\n",
      "   macro avg       0.56      0.51      0.47      4148\n",
      "weighted avg       0.66      0.74      0.66      4148\n",
      "\n",
      "Naive Bayes\n",
      "Training took 0.00 seconds.\n",
      "              precision    recall  f1-score   support\n",
      "\n",
      "           0       0.78      0.92      0.84      3126\n",
      "           1       0.44      0.20      0.28      1022\n",
      "\n",
      "    accuracy                           0.74      4148\n",
      "   macro avg       0.61      0.56      0.56      4148\n",
      "weighted avg       0.69      0.74      0.70      4148\n",
      "\n",
      "Random Forest\n",
      "Training took 0.34 seconds.\n",
      "              precision    recall  f1-score   support\n",
      "\n",
      "           0       0.76      0.93      0.84      3126\n",
      "           1       0.30      0.09      0.14      1022\n",
      "\n",
      "    accuracy                           0.72      4148\n",
      "   macro avg       0.53      0.51      0.49      4148\n",
      "weighted avg       0.64      0.72      0.66      4148\n",
      "\n",
      "SVM\n",
      "Training took 5.58 seconds.\n",
      "              precision    recall  f1-score   support\n",
      "\n",
      "           0       0.76      0.94      0.84      3126\n",
      "           1       0.34      0.09      0.14      1022\n",
      "\n",
      "    accuracy                           0.73      4148\n",
      "   macro avg       0.55      0.52      0.49      4148\n",
      "weighted avg       0.66      0.73      0.67      4148\n",
      "\n",
      "KNN\n",
      "Training took 0.01 seconds.\n",
      "              precision    recall  f1-score   support\n",
      "\n",
      "           0       0.76      0.86      0.81      3126\n",
      "           1       0.30      0.18      0.23      1022\n",
      "\n",
      "    accuracy                           0.69      4148\n",
      "   macro avg       0.53      0.52      0.52      4148\n",
      "weighted avg       0.65      0.69      0.67      4148\n",
      "\n"
     ]
    }
   ],
   "source": [
    "model_names = ['Logistic Regression', 'Naive Bayes', 'Random Forest', 'SVM', 'KNN']\n",
    "models = [LogisticRegression(), GaussianNB(), RandomForestClassifier(), SVC(), KNeighborsClassifier(n_neighbors=5)]\n",
    "print(\"Features: {}.\\n\".format(X_colnames))\n",
    "print(\"PCA\")\n",
    "for i in range(len(model_names)):\n",
    "    print(model_names[i])\n",
    "    fit_model(models[i], X_train_comp, y_train, X_test_comp, y_test)"
   ]
  },
  {
   "cell_type": "markdown",
   "metadata": {},
   "source": [
    "### Fine tuning for RF"
   ]
  },
  {
   "cell_type": "code",
   "execution_count": null,
   "metadata": {},
   "outputs": [],
   "source": [
    "from sklearn.model_selection import RandomizedSearchCV\n",
    "# Number of trees in random forest\n",
    "n_estimators = [int(x) for x in np.linspace(start = 20, stop = 2000, num = 10)]\n",
    "# Number of features to consider at every split\n",
    "max_features = ['auto', 'sqrt']\n",
    "# Maximum number of levels in tree\n",
    "max_depth = [int(x) for x in np.linspace(10, 110, num = 11)]\n",
    "max_depth.append(None)\n",
    "# Minimum number of samples required to split a node\n",
    "min_samples_split = [2, 5, 10]\n",
    "# Minimum number of samples required at each leaf node\n",
    "min_samples_leaf = [1, 2, 4]\n",
    "# Method of selecting samples for training each tree\n",
    "bootstrap = [True, False]\n",
    "# Create the random grid\n",
    "random_grid = {'n_estimators': n_estimators,\n",
    "               'max_features': max_features,\n",
    "               'max_depth': max_depth,\n",
    "               'min_samples_split': min_samples_split,\n",
    "               'min_samples_leaf': min_samples_leaf,\n",
    "               'bootstrap': bootstrap}\n",
    "print(random_grid)"
   ]
  },
  {
   "cell_type": "code",
   "execution_count": null,
   "metadata": {},
   "outputs": [],
   "source": [
    "# Use the random grid to search for best hyperparameters\n",
    "# First create the base model to tune\n",
    "rf = RandomForestClassifier()\n",
    "# Random search of parameters, using 3 fold cross validation, \n",
    "# search across 100 different combinations, and use all available cores\n",
    "rf_random = RandomizedSearchCV(estimator = rf, param_distributions = random_grid, n_iter = 100, cv = 3, verbose=2, random_state=42, n_jobs = -1)\n",
    "# Fit the random search model\n",
    "rf_random.fit(X_train_upsampled, y_train_upsampled)"
   ]
  },
  {
   "cell_type": "code",
   "execution_count": 19,
   "metadata": {},
   "outputs": [],
   "source": [
    "best_para = {'n_estimators': 240,\n",
    "             'min_samples_split': 10,\n",
    "             'min_samples_leaf': 4,\n",
    "             'max_features': 'sqrt',\n",
    "             'max_depth': 90,\n",
    "             'bootstrap': True}\n"
   ]
  },
  {
   "cell_type": "code",
   "execution_count": 13,
   "metadata": {},
   "outputs": [
    {
     "name": "stdout",
     "output_type": "stream",
     "text": [
      "Fitting 3 folds for each of 60 candidates, totalling 180 fits\n"
     ]
    },
    {
     "name": "stderr",
     "output_type": "stream",
     "text": [
      "[Parallel(n_jobs=-1)]: Using backend LokyBackend with 8 concurrent workers.\n",
      "[Parallel(n_jobs=-1)]: Done  25 tasks      | elapsed:   22.7s\n",
      "[Parallel(n_jobs=-1)]: Done 146 tasks      | elapsed:  2.0min\n",
      "[Parallel(n_jobs=-1)]: Done 180 out of 180 | elapsed:  2.4min finished\n"
     ]
    },
    {
     "data": {
      "text/plain": [
       "GridSearchCV(cv=3, error_score='raise-deprecating',\n",
       "             estimator=RandomForestClassifier(bootstrap=True, class_weight=None,\n",
       "                                              criterion='gini', max_depth=None,\n",
       "                                              max_features='auto',\n",
       "                                              max_leaf_nodes=None,\n",
       "                                              min_impurity_decrease=0.0,\n",
       "                                              min_impurity_split=None,\n",
       "                                              min_samples_leaf=1,\n",
       "                                              min_samples_split=2,\n",
       "                                              min_weight_fraction_leaf=0.0,\n",
       "                                              n_estimators='warn', n_jobs=None,\n",
       "                                              oob_score=False,\n",
       "                                              random_state=None, verbose=0,\n",
       "                                              warm_start=False),\n",
       "             iid='warn', n_jobs=-1,\n",
       "             param_grid={'bootstrap': [True], 'max_depth': [200, 250, 300, 350],\n",
       "                         'max_features': ['sqrt'],\n",
       "                         'min_samples_leaf': [3, 4, 5],\n",
       "                         'n_estimators': [200, 250, 300, 350, 400]},\n",
       "             pre_dispatch='2*n_jobs', refit=True, return_train_score=False,\n",
       "             scoring='f1', verbose=2)"
      ]
     },
     "execution_count": 13,
     "metadata": {},
     "output_type": "execute_result"
    }
   ],
   "source": [
    "# Create the parameter grid based on the results of random search \n",
    "param_grid = {\n",
    "    'bootstrap': [True],\n",
    "    'max_depth': [200,250,300,350],\n",
    "    'max_features': ['sqrt'],\n",
    "    'min_samples_leaf': [3, 4, 5],\n",
    "    'n_estimators': [200, 250, 300, 350, 400]\n",
    "}\n",
    "# Create a based model\n",
    "rf = RandomForestClassifier()\n",
    "# Instantiate the grid search model\n",
    "grid_search = GridSearchCV(estimator = rf, param_grid = param_grid, \n",
    "                           cv = 3, n_jobs = -1, verbose = 2, scoring='f1')\n",
    "grid_search.fit(X_train_delta_upsampled, y_train_delta_upsampled)"
   ]
  },
  {
   "cell_type": "code",
   "execution_count": 17,
   "metadata": {},
   "outputs": [],
   "source": [
    "best_para = {'bootstrap': True,\n",
    "             'max_depth': 300,\n",
    "             'max_features': 'sqrt',\n",
    "             'min_samples_leaf': 3,\n",
    "             'min_samples_split': 8,\n",
    "             'n_estimators': 300}"
   ]
  },
  {
   "cell_type": "code",
   "execution_count": 18,
   "metadata": {},
   "outputs": [
    {
     "name": "stdout",
     "output_type": "stream",
     "text": [
      "              precision    recall  f1-score   support\n",
      "\n",
      "           0       0.82      0.90      0.86      3126\n",
      "           1       0.55      0.38      0.45      1022\n",
      "\n",
      "    accuracy                           0.77      4148\n",
      "   macro avg       0.69      0.64      0.65      4148\n",
      "weighted avg       0.75      0.77      0.76      4148\n",
      "\n"
     ]
    }
   ],
   "source": [
    "# best_para = grid_search.best_params_\n",
    "best_para = {'bootstrap': True,\n",
    "             'max_depth': 300,\n",
    "             'max_features': 'sqrt',\n",
    "             'min_samples_leaf': 3,\n",
    "             'min_samples_split': 8,\n",
    "             'n_estimators': 300}\n",
    "rf = RandomForestClassifier()\n",
    "rf.set_params(**best_para)\n",
    "rf.fit(X_train_delta_upsampled, y_train_delta_upsampled)\n",
    "y_pred = rf.predict(X_test_delta)\n",
    "print(classification_report(y_test, y_pred))"
   ]
  },
  {
   "cell_type": "markdown",
   "metadata": {},
   "source": [
    "### Fine tuning for KNN"
   ]
  },
  {
   "cell_type": "code",
   "execution_count": null,
   "metadata": {},
   "outputs": [],
   "source": [
    "neighbors = list(range(1,50))\n",
    "train_results = []\n",
    "train_results_f1 = []\n",
    "test_results = []\n",
    "test_results_f1 = []\n",
    "\n",
    "for n in neighbors:\n",
    "    knn = KNeighborsClassifier(n_neighbors=n)\n",
    "    knn.fit(X_train_delta_upsampled, y_train_delta_upsampled)\n",
    "    train_pred = knn.predict(X_train_delta)\n",
    "    \n",
    "    f1 = f1_score(y_train, train_pred)\n",
    "    false_positive_rate, true_positive_rate, thresholds = roc_curve(y_train, train_pred)\n",
    "    roc_auc = auc(false_positive_rate, true_positive_rate)\n",
    "    train_results.append(roc_auc)\n",
    "    train_results_f1.append(f1)\n",
    "    \n",
    "    y_pred = knn.predict(X_test_delta)\n",
    "    f1 = f1_score(y_test, y_pred)\n",
    "    false_positive_rate, true_positive_rate, thresholds = roc_curve(y_test, y_pred)\n",
    "    roc_auc = auc(false_positive_rate, true_positive_rate)\n",
    "    test_results.append(roc_auc)\n",
    "    test_results_f1.append(f1)"
   ]
  },
  {
   "cell_type": "code",
   "execution_count": 8,
   "metadata": {},
   "outputs": [
    {
     "data": {
      "image/png": "[encoded data removed]",
      "text/plain": [
       "<Figure size 432x288 with 1 Axes>"
      ]
     },
     "metadata": {
      "needs_background": "light"
     },
     "output_type": "display_data"
    }
   ],
   "source": [
    "line1, = plt.plot(neighbors, train_results,  c='b', label='Train AUC')\n",
    "line2, = plt.plot(neighbors, test_results, c='r', label='Test AUC')\n",
    "plt.legend(handler_map={line1: HandlerLine2D(numpoints=2)})\n",
    "plt.ylabel('AUC score')\n",
    "plt.xlabel('n_neighbors')\n",
    "plt.savefig('plots/KNN_AUC_2.png')\n",
    "plt.show()"
   ]
  },
  {
   "cell_type": "code",
   "execution_count": 9,
   "metadata": {},
   "outputs": [
    {
     "data": {
      "image/png": "[encoded data removed]",
      "text/plain": [
       "<Figure size 432x288 with 1 Axes>"
      ]
     },
     "metadata": {
      "needs_background": "light"
     },
     "output_type": "display_data"
    }
   ],
   "source": [
    "line1, = plt.plot(neighbors, train_results_f1, c='b', label='Train F1')\n",
    "line2, = plt.plot(neighbors, test_results_f1, c='r', label='Test F1')\n",
    "plt.legend(handler_map={line1: HandlerLine2D(numpoints=2)})\n",
    "plt.ylabel('F1 score')\n",
    "plt.xlabel('n_neighbors')\n",
    "plt.savefig('plots/KNN_F1_2.png')\n",
    "plt.show()"
   ]
  },
  {
   "cell_type": "code",
   "execution_count": 10,
   "metadata": {},
   "outputs": [
    {
     "name": "stdout",
     "output_type": "stream",
     "text": [
      "0.628945351968779\n",
      "38\n",
      "0.45258783528522856\n",
      "38\n"
     ]
    }
   ],
   "source": [
    "print(max(test_results))\n",
    "print(test_results.index(max(test_results)))\n",
    "print(max(test_results_f1))\n",
    "print(test_results_f1.index(max(test_results_f1)))"
   ]
  },
  {
   "cell_type": "code",
   "execution_count": 19,
   "metadata": {},
   "outputs": [
    {
     "name": "stdout",
     "output_type": "stream",
     "text": [
      "              precision    recall  f1-score   support\n",
      "\n",
      "           0       0.83      0.69      0.75      3126\n",
      "           1       0.37      0.56      0.45      1022\n",
      "\n",
      "    accuracy                           0.66      4148\n",
      "   macro avg       0.60      0.63      0.60      4148\n",
      "weighted avg       0.72      0.66      0.68      4148\n",
      "\n"
     ]
    }
   ],
   "source": [
    "knn = KNeighborsClassifier(n_neighbors=38)\n",
    "knn.fit(X_train_delta_upsampled, y_train_delta_upsampled)\n",
    "y_pred = knn.predict(X_test_delta)\n",
    "print(classification_report(y_test, y_pred))"
   ]
  },
  {
   "cell_type": "markdown",
   "metadata": {},
   "source": [
    "### Fine tuning for SVM"
   ]
  },
  {
   "cell_type": "code",
   "execution_count": 69,
   "metadata": {},
   "outputs": [
    {
     "name": "stdout",
     "output_type": "stream",
     "text": [
      "Fitting 5 folds for each of 12 candidates, totalling 60 fits\n"
     ]
    },
    {
     "name": "stderr",
     "output_type": "stream",
     "text": [
      "[Parallel(n_jobs=-1)]: Using backend LokyBackend with 8 concurrent workers.\n",
      "/home/jiankun/anaconda3/lib/python3.7/site-packages/joblib/externals/loky/process_executor.py:706: UserWarning: A worker stopped while some jobs were given to the executor. This can be caused by a too short worker timeout or by a memory leak.\n",
      "  \"timeout or by a memory leak.\", UserWarning\n",
      "[Parallel(n_jobs=-1)]: Done  25 tasks      | elapsed:   27.3s\n",
      "[Parallel(n_jobs=-1)]: Done  60 out of  60 | elapsed:  1.2min finished\n"
     ]
    },
    {
     "data": {
      "text/plain": [
       "GridSearchCV(cv=5, error_score='raise-deprecating',\n",
       "             estimator=SVC(C=1.0, cache_size=200, class_weight=None, coef0=0.0,\n",
       "                           decision_function_shape='ovr', degree=3,\n",
       "                           gamma='auto_deprecated', kernel='rbf', max_iter=-1,\n",
       "                           probability=False, random_state=None, shrinking=True,\n",
       "                           tol=0.001, verbose=False),\n",
       "             iid='warn', n_jobs=-1,\n",
       "             param_grid={'C': [0.01, 0.1, 1],\n",
       "                         'class_weight': [{0: 25, 1: 0.75}], 'gamma': ['scale'],\n",
       "                         'kernel': ['linear', 'poly', 'rbf', 'sigmoid']},\n",
       "             pre_dispatch='2*n_jobs', refit=True, return_train_score=False,\n",
       "             scoring='f1', verbose=2)"
      ]
     },
     "execution_count": 69,
     "metadata": {},
     "output_type": "execute_result"
    }
   ],
   "source": [
    "Cs = [0.01, 0.1, 1]\n",
    "gammas = ['scale']\n",
    "kernels = ['linear', 'poly', 'rbf', 'sigmoid']\n",
    "class_weights = [{1:0.75, 0:25}]\n",
    "param_grid = {'C': Cs, 'gamma' : gammas, 'kernel':kernels, 'class_weight':class_weights}\n",
    "\n",
    "svm = SVC()\n",
    "# Instantiate the grid search model\n",
    "grid_svm = GridSearchCV(estimator = svm, param_grid = param_grid, \n",
    "                          cv = 5, n_jobs = -1, verbose = 2, scoring='f1')\n",
    "grid_svm.fit(X_train, y_train)"
   ]
  },
  {
   "cell_type": "code",
   "execution_count": 70,
   "metadata": {},
   "outputs": [
    {
     "name": "stdout",
     "output_type": "stream",
     "text": [
      "{'C': 1, 'class_weight': {1: 0.75, 0: 25}, 'gamma': 'scale', 'kernel': 'poly'}\n",
      "              precision    recall  f1-score   support\n",
      "\n",
      "           0       0.76      1.00      0.86      3126\n",
      "           1       0.69      0.03      0.06      1022\n",
      "\n",
      "    accuracy                           0.76      4148\n",
      "   macro avg       0.73      0.51      0.46      4148\n",
      "weighted avg       0.74      0.76      0.66      4148\n",
      "\n"
     ]
    }
   ],
   "source": [
    "best_para = grid_svm.best_params_\n",
    "print(best_para)\n",
    "svm = SVC()\n",
    "svm.set_params(**best_para)\n",
    "svm.fit(X_train, y_train)\n",
    "y_pred = svm.predict(X_test)\n",
    "print(classification_report(y_test, y_pred))"
   ]
  },
  {
   "cell_type": "code",
   "execution_count": 6,
   "metadata": {},
   "outputs": [
    {
     "name": "stdout",
     "output_type": "stream",
     "text": [
      "              precision    recall  f1-score   support\n",
      "\n",
      "           0       0.75      1.00      0.86      3126\n",
      "           1       0.00      0.00      0.00      1022\n",
      "\n",
      "    accuracy                           0.75      4148\n",
      "   macro avg       0.38      0.50      0.43      4148\n",
      "weighted avg       0.57      0.75      0.65      4148\n",
      "\n"
     ]
    },
    {
     "name": "stderr",
     "output_type": "stream",
     "text": [
      "/home/jiankun/anaconda3/lib/python3.7/site-packages/sklearn/metrics/classification.py:1437: UndefinedMetricWarning: Precision and F-score are ill-defined and being set to 0.0 in labels with no predicted samples.\n",
      "  'precision', 'predicted', average, warn_for)\n"
     ]
    }
   ],
   "source": [
    "svm = SVC(kernel = 'linear')\n",
    "svm.fit(X_train, y_train)\n",
    "y_pred = svm.predict(X_test)\n",
    "print(classification_report(y_test, y_pred))"
   ]
  },
  {
   "cell_type": "code",
   "execution_count": 75,
   "metadata": {},
   "outputs": [
    {
     "name": "stdout",
     "output_type": "stream",
     "text": [
      "              precision    recall  f1-score   support\n",
      "\n",
      "           0       0.83      0.68      0.75      3126\n",
      "           1       0.36      0.56      0.44      1022\n",
      "\n",
      "    accuracy                           0.65      4148\n",
      "   macro avg       0.60      0.62      0.59      4148\n",
      "weighted avg       0.71      0.65      0.67      4148\n",
      "\n"
     ]
    }
   ],
   "source": [
    "svm = SVC(class_weight = {1:0.75,0:0.25},kernel = 'linear')\n",
    "svm.fit(X_train, y_train)\n",
    "y_pred = svm.predict(X_test)\n",
    "print(classification_report(y_test, y_pred))"
   ]
  },
  {
   "cell_type": "code",
   "execution_count": 76,
   "metadata": {},
   "outputs": [
    {
     "name": "stdout",
     "output_type": "stream",
     "text": [
      "              precision    recall  f1-score   support\n",
      "\n",
      "           0       0.85      0.74      0.79      3126\n",
      "           1       0.44      0.61      0.51      1022\n",
      "\n",
      "    accuracy                           0.71      4148\n",
      "   macro avg       0.64      0.68      0.65      4148\n",
      "weighted avg       0.75      0.71      0.72      4148\n",
      "\n"
     ]
    }
   ],
   "source": [
    "svm = SVC(class_weight = {1:0.75,0:0.25},kernel = 'rbf')\n",
    "svm.fit(X_train, y_train)\n",
    "y_pred = svm.predict(X_test)\n",
    "print(classification_report(y_test, y_pred))"
   ]
  },
  {
   "cell_type": "markdown",
   "metadata": {},
   "source": [
    "### Fine tuning for Logistic regression"
   ]
  },
  {
   "cell_type": "code",
   "execution_count": 45,
   "metadata": {},
   "outputs": [
    {
     "name": "stdout",
     "output_type": "stream",
     "text": [
      "Fitting 3 folds for each of 8 candidates, totalling 24 fits\n"
     ]
    },
    {
     "name": "stderr",
     "output_type": "stream",
     "text": [
      "[Parallel(n_jobs=-1)]: Using backend LokyBackend with 8 concurrent workers.\n",
      "[Parallel(n_jobs=-1)]: Done   9 out of  24 | elapsed:    0.3s remaining:    0.5s\n",
      "[Parallel(n_jobs=-1)]: Done  24 out of  24 | elapsed:    0.6s finished\n",
      "/home/jiankun/anaconda3/lib/python3.7/site-packages/sklearn/linear_model/logistic.py:432: FutureWarning: Default solver will be changed to 'lbfgs' in 0.22. Specify a solver to silence this warning.\n",
      "  FutureWarning)\n"
     ]
    },
    {
     "data": {
      "text/plain": [
       "GridSearchCV(cv=3, error_score='raise-deprecating',\n",
       "             estimator=LogisticRegression(C=1.0, class_weight=None, dual=False,\n",
       "                                          fit_intercept=True,\n",
       "                                          intercept_scaling=1, l1_ratio=None,\n",
       "                                          max_iter=100, multi_class='warn',\n",
       "                                          n_jobs=None, penalty='l2',\n",
       "                                          random_state=None, solver='warn',\n",
       "                                          tol=0.0001, verbose=0,\n",
       "                                          warm_start=False),\n",
       "             iid='warn', n_jobs=-1,\n",
       "             param_grid={'C': [0.001, 0.1, 1, 10], 'penalty': ['l1', 'l2']},\n",
       "             pre_dispatch='2*n_jobs', refit=True, return_train_score=False,\n",
       "             scoring='roc_auc', verbose=2)"
      ]
     },
     "execution_count": 45,
     "metadata": {},
     "output_type": "execute_result"
    }
   ],
   "source": [
    "penalty = ['l1', 'l2']\n",
    "C_param_range = [0.001,0.1,1,10]\n",
    "\n",
    "# Create hyperparameter options\n",
    "hyperparameters = dict(C=C_param_range, penalty=penalty)\n",
    "\n",
    "logi = LogisticRegression()\n",
    "# Instantiate the grid search model\n",
    "grid_logi = GridSearchCV(estimator = logi, param_grid = hyperparameters, \n",
    "                          cv = 3, n_jobs = -1, verbose = 2, scoring='roc_auc')\n",
    "grid_logi.fit(X_train_delta_upsampled, y_train_delta_upsampled)"
   ]
  },
  {
   "cell_type": "code",
   "execution_count": 49,
   "metadata": {},
   "outputs": [
    {
     "name": "stdout",
     "output_type": "stream",
     "text": [
      "{'C': 0.1, 'penalty': 'l1'}\n",
      "              precision    recall  f1-score   support\n",
      "\n",
      "           0       0.84      0.56      0.67      3126\n",
      "           1       0.33      0.67      0.44      1022\n",
      "\n",
      "    accuracy                           0.59      4148\n",
      "   macro avg       0.58      0.61      0.56      4148\n",
      "weighted avg       0.71      0.59      0.61      4148\n",
      "\n"
     ]
    },
    {
     "name": "stderr",
     "output_type": "stream",
     "text": [
      "/home/jiankun/anaconda3/lib/python3.7/site-packages/sklearn/linear_model/logistic.py:432: FutureWarning: Default solver will be changed to 'lbfgs' in 0.22. Specify a solver to silence this warning.\n",
      "  FutureWarning)\n"
     ]
    }
   ],
   "source": [
    "best_para = grid_logi.best_params_\n",
    "print(best_para)\n",
    "lg = LogisticRegression()\n",
    "lg.set_params(**best_para)\n",
    "lg.fit(X_train_delta_upsampled, y_train_delta_upsampled)\n",
    "y_pred = lg.predict(X_test_delta)\n",
    "print(classification_report(y_test, y_pred))"
   ]
  },
  {
   "cell_type": "code",
   "execution_count": 11,
   "metadata": {},
   "outputs": [
    {
     "data": {
      "text/plain": [
       "SVC(C=1.0, cache_size=200, class_weight={0: 0.25, 1: 0.75}, coef0=0.0,\n",
       "    decision_function_shape='ovr', degree=3, gamma='auto_deprecated',\n",
       "    kernel='rbf', max_iter=-1, probability=True, random_state=None,\n",
       "    shrinking=True, tol=0.001, verbose=False)"
      ]
     },
     "execution_count": 11,
     "metadata": {},
     "output_type": "execute_result"
    }
   ],
   "source": [
    "model = SVC(class_weight = {1:0.75,0:0.25},probability=True)\n",
    "model.fit(X_train,y_train)"
   ]
  },
  {
   "cell_type": "code",
   "execution_count": 16,
   "metadata": {},
   "outputs": [],
   "source": [
    "y_pred = model.predict_proba(X_test)[:,1]"
   ]
  },
  {
   "cell_type": "code",
   "execution_count": 18,
   "metadata": {},
   "outputs": [],
   "source": [
    "E = pd.read_csv('../data/Study_E.csv')\n",
    "X_E = E.iloc[:, 7:38]\n",
    "X_E = ss_X.fit_transform(X_E)\n"
   ]
  },
  {
   "cell_type": "code",
   "execution_count": 19,
   "metadata": {},
   "outputs": [],
   "source": [
    "y_pred = model.predict_proba(X_E)[:,1]"
   ]
  },
  {
   "cell_type": "code",
   "execution_count": 23,
   "metadata": {},
   "outputs": [
    {
     "data": {
      "text/html": [
       "<div>\n",
       "<style scoped>\n",
       "    .dataframe tbody tr th:only-of-type {\n",
       "        vertical-align: middle;\n",
       "    }\n",
       "\n",
       "    .dataframe tbody tr th {\n",
       "        vertical-align: top;\n",
       "    }\n",
       "\n",
       "    .dataframe thead th {\n",
       "        text-align: right;\n",
       "    }\n",
       "</style>\n",
       "<table border=\"1\" class=\"dataframe\">\n",
       "  <thead>\n",
       "    <tr style=\"text-align: right;\">\n",
       "      <th></th>\n",
       "      <th>AssessmentID</th>\n",
       "      <th>LeadStatus</th>\n",
       "    </tr>\n",
       "  </thead>\n",
       "  <tbody>\n",
       "    <tr>\n",
       "      <th>0</th>\n",
       "      <td>501017</td>\n",
       "      <td>0.0</td>\n",
       "    </tr>\n",
       "    <tr>\n",
       "      <th>1</th>\n",
       "      <td>500679</td>\n",
       "      <td>0.0</td>\n",
       "    </tr>\n",
       "    <tr>\n",
       "      <th>2</th>\n",
       "      <td>500930</td>\n",
       "      <td>0.0</td>\n",
       "    </tr>\n",
       "    <tr>\n",
       "      <th>3</th>\n",
       "      <td>502177</td>\n",
       "      <td>0.0</td>\n",
       "    </tr>\n",
       "    <tr>\n",
       "      <th>4</th>\n",
       "      <td>501533</td>\n",
       "      <td>0.0</td>\n",
       "    </tr>\n",
       "  </tbody>\n",
       "</table>\n",
       "</div>"
      ],
      "text/plain": [
       "   AssessmentID  LeadStatus\n",
       "0        501017         0.0\n",
       "1        500679         0.0\n",
       "2        500930         0.0\n",
       "3        502177         0.0\n",
       "4        501533         0.0"
      ]
     },
     "execution_count": 23,
     "metadata": {},
     "output_type": "execute_result"
    }
   ],
   "source": [
    "df_out = pd.DataFrame()\n",
    "df_out['AssessmentID']=E['AssessmentiD']\n",
    "df_out['LeadStatus'] = y_pred\n",
    "df_out.head()"
   ]
  },
  {
   "cell_type": "code",
   "execution_count": 24,
   "metadata": {},
   "outputs": [],
   "source": [
    "df_out.to_csv('submission.csv',index=False)"
   ]
  }
 ],
 "metadata": {
  "kernelspec": {
   "display_name": "Python 3",
   "language": "python",
   "name": "python3"
  },
  "language_info": {
   "codemirror_mode": {
    "name": "ipython",
    "version": 3
   },
   "file_extension": ".py",
   "mimetype": "text/x-python",
   "name": "python",
   "nbconvert_exporter": "python",
   "pygments_lexer": "ipython3",
   "version": "3.7.3"
  }
 },
 "nbformat": 4,
 "nbformat_minor": 2
}
