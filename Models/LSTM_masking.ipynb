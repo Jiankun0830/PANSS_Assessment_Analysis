{
 "cells": [
  {
   "cell_type": "code",
   "execution_count": 1,
   "metadata": {},
   "outputs": [
    {
     "name": "stderr",
     "output_type": "stream",
     "text": [
      "Using TensorFlow backend.\n"
     ]
    }
   ],
   "source": [
    "import pandas as pd\n",
    "import numpy as np\n",
    "import matplotlib.pyplot as plt\n",
    "import keras"
   ]
  },
  {
   "cell_type": "code",
   "execution_count": 2,
   "metadata": {},
   "outputs": [],
   "source": [
    "train = pd.read_csv(\"train_1121.csv\")\n",
    "test = pd.read_csv(\"test_1121.csv\")"
   ]
  },
  {
   "cell_type": "code",
   "execution_count": 3,
   "metadata": {
    "scrolled": true
   },
   "outputs": [
    {
     "data": {
      "text/plain": [
       "Index(['VisitDay', 'P1', 'P2', 'P3', 'P4', 'P5', 'P6', 'P7', 'N1', 'N2', 'N3',\n",
       "       'N4', 'N5', 'N6', 'N7', 'G1', 'G2', 'G3', 'G4', 'G5', 'G6', 'G7', 'G8',\n",
       "       'G9', 'G10', 'G11', 'G12', 'G13', 'G14', 'G15', 'G16'],\n",
       "      dtype='object')"
      ]
     },
     "execution_count": 3,
     "metadata": {},
     "output_type": "execute_result"
    }
   ],
   "source": [
    "train.columns[7:38]"
   ]
  },
  {
   "cell_type": "code",
   "execution_count": 3,
   "metadata": {},
   "outputs": [],
   "source": [
    "PatientID = train.PatientID.unique()\n",
    "x_train = []\n",
    "y_train = []\n",
    "for Id in PatientID:\n",
    "    patient = train[train.PatientID==Id]\n",
    "    x_train.append(patient.values[:,7:38])\n",
    "    y_train.append(patient.values[:,-1])"
   ]
  },
  {
   "cell_type": "code",
   "execution_count": 4,
   "metadata": {},
   "outputs": [],
   "source": [
    "PatientID_t = test.PatientID.unique()\n",
    "x_test = []\n",
    "y_test = []\n",
    "for Id in PatientID_t:\n",
    "    patient = test[test.PatientID==Id]\n",
    "    x_test.append(patient.values[:,7:38])\n",
    "    y_test.append(patient.values[:,-1])"
   ]
  },
  {
   "cell_type": "code",
   "execution_count": 5,
   "metadata": {},
   "outputs": [],
   "source": [
    "from __future__ import absolute_import, division, print_function, unicode_literals\n",
    "\n",
    "import numpy as np\n",
    "\n",
    "import tensorflow as tf\n",
    "\n",
    "from tensorflow.keras import layers"
   ]
  },
  {
   "cell_type": "code",
   "execution_count": 6,
   "metadata": {},
   "outputs": [],
   "source": [
    "special_value = 0\n",
    "max_seq_len = 25\n",
    "x_train_padded = tf.keras.preprocessing.sequence.pad_sequences(x_train,padding='post', maxlen=max_seq_len, value=special_value)\n",
    "y_train_padded = tf.keras.preprocessing.sequence.pad_sequences(y_train,padding='post', maxlen=max_seq_len)\n",
    "x_test_padded = tf.keras.preprocessing.sequence.pad_sequences(x_test,padding='post', maxlen=max_seq_len, value=special_value)\n",
    "y_test_padded = tf.keras.preprocessing.sequence.pad_sequences(y_test,padding='post', maxlen=max_seq_len)"
   ]
  },
  {
   "cell_type": "code",
   "execution_count": 7,
   "metadata": {},
   "outputs": [],
   "source": [
    "cat_train_tags_y = keras.utils.to_categorical(y_train_padded, 2)\n",
    "cat_test_tags_y = keras.utils.to_categorical(y_test_padded, 2)"
   ]
  },
  {
   "cell_type": "code",
   "execution_count": 8,
   "metadata": {},
   "outputs": [],
   "source": [
    "from keras.models import Sequential, Model\n",
    "from keras.layers import Dense, LSTM, GRU, InputLayer, Bidirectional, TimeDistributed, BatchNormalization, SimpleRNN, GlobalAveragePooling1D\n",
    "from keras.layers import Embedding, Activation, Masking, Dropout, Input\n",
    "from keras.layers.convolutional import Conv1D, MaxPooling1D\n",
    "from keras.optimizers import Adam\n",
    "from keras.layers.convolutional import Conv1D, MaxPooling1D\n",
    "\n",
    "dimension = x_train_padded.shape[2]\n",
    "embedding_size = 40"
   ]
  },
  {
   "cell_type": "code",
   "execution_count": 26,
   "metadata": {},
   "outputs": [
    {
     "name": "stdout",
     "output_type": "stream",
     "text": [
      "Model: \"model_7\"\n",
      "__________________________________________________________________________________________________\n",
      "Layer (type)                    Output Shape         Param #     Connected to                     \n",
      "==================================================================================================\n",
      "input_7 (InputLayer)            (None, 25, 31)       0                                            \n",
      "__________________________________________________________________________________________________\n",
      "conv1d_25 (Conv1D)              (None, 25, 64)       4032        input_7[0][0]                    \n",
      "__________________________________________________________________________________________________\n",
      "conv1d_26 (Conv1D)              (None, 25, 64)       12352       conv1d_25[0][0]                  \n",
      "__________________________________________________________________________________________________\n",
      "max_pooling1d_6 (MaxPooling1D)  (None, 25, 32)       0           conv1d_26[0][0]                  \n",
      "__________________________________________________________________________________________________\n",
      "conv1d_27 (Conv1D)              (None, 25, 128)      16512       max_pooling1d_6[0][0]            \n",
      "__________________________________________________________________________________________________\n",
      "conv1d_28 (Conv1D)              (None, 25, 128)      82048       conv1d_27[0][0]                  \n",
      "__________________________________________________________________________________________________\n",
      "dense_13 (Dense)                (None, 25, 31)       3999        conv1d_28[0][0]                  \n",
      "__________________________________________________________________________________________________\n",
      "add_7 (Add)                     (None, 25, 31)       0           dense_13[0][0]                   \n",
      "                                                                 input_7[0][0]                    \n",
      "__________________________________________________________________________________________________\n",
      "bidirectional_6 (Bidirectional) (None, 25, 256)      163840      add_7[0][0]                      \n",
      "__________________________________________________________________________________________________\n",
      "time_distributed_6 (TimeDistrib (None, 25, 2)        514         bidirectional_6[0][0]            \n",
      "__________________________________________________________________________________________________\n",
      "activation_7 (Activation)       (None, 25, 2)        0           time_distributed_6[0][0]         \n",
      "==================================================================================================\n",
      "Total params: 283,297\n",
      "Trainable params: 283,297\n",
      "Non-trainable params: 0\n",
      "__________________________________________________________________________________________________\n",
      "None\n"
     ]
    }
   ],
   "source": [
    "inputs = Input(shape=(max_seq_len, dimension,))\n",
    "x = Conv1D(filters=64, kernel_size=2, padding='same', activation='relu')(inputs)\n",
    "x = Conv1D(filters=64, kernel_size=3, padding='same', activation='relu')(x)\n",
    "x = MaxPooling1D(pool_size=2, data_format='channels_first')(x)\n",
    "x = Conv1D(filters=128, kernel_size=4, padding='same', activation='relu')(x)\n",
    "x = Conv1D(filters=128, kernel_size=5, padding='same', activation='relu')(x)\n",
    "x = Dense(dimension)(x)\n",
    "x = keras.layers.add([x,inputs])\n",
    "x = Bidirectional(LSTM(128, input_shape=(max_seq_len, dimension), return_sequences=True))(x)\n",
    "x = TimeDistributed(Dense(2))(x)\n",
    "predictions = Activation('softmax')(x)\n",
    "\n",
    "model_cnn_lstm = Model(inputs=inputs, outputs=predictions)\n",
    "model_cnn_lstm.compile(optimizer=Adam(0.001),\n",
    "              loss='categorical_crossentropy',\n",
    "              metrics=['accuracy'])\n",
    "print(model_cnn_lstm.summary())"
   ]
  },
  {
   "cell_type": "code",
   "execution_count": 27,
   "metadata": {},
   "outputs": [
    {
     "name": "stdout",
     "output_type": "stream",
     "text": [
      "Epoch 1/15\n",
      "1946/1946 [==============================] - 2s 922us/step - loss: 0.1991 - accuracy: 0.9184\n",
      "Epoch 2/15\n",
      "1946/1946 [==============================] - 1s 713us/step - loss: 0.1314 - accuracy: 0.9473\n",
      "Epoch 3/15\n",
      "1946/1946 [==============================] - 1s 702us/step - loss: 0.1258 - accuracy: 0.9502\n",
      "Epoch 4/15\n",
      "1946/1946 [==============================] - 1s 702us/step - loss: 0.1226 - accuracy: 0.9524\n",
      "Epoch 5/15\n",
      "1946/1946 [==============================] - 1s 707us/step - loss: 0.1225 - accuracy: 0.9513\n",
      "Epoch 6/15\n",
      "1946/1946 [==============================] - 1s 718us/step - loss: 0.1207 - accuracy: 0.9527\n",
      "Epoch 7/15\n",
      "1946/1946 [==============================] - 1s 719us/step - loss: 0.1194 - accuracy: 0.9532\n",
      "Epoch 8/15\n",
      "1946/1946 [==============================] - 1s 706us/step - loss: 0.1190 - accuracy: 0.9526\n",
      "Epoch 9/15\n",
      "1946/1946 [==============================] - 1s 695us/step - loss: 0.1176 - accuracy: 0.9534\n",
      "Epoch 10/15\n",
      "1946/1946 [==============================] - 1s 701us/step - loss: 0.1181 - accuracy: 0.9534\n",
      "Epoch 11/15\n",
      "1946/1946 [==============================] - 1s 699us/step - loss: 0.1158 - accuracy: 0.9543\n",
      "Epoch 12/15\n",
      "1946/1946 [==============================] - 1s 700us/step - loss: 0.1205 - accuracy: 0.9517\n",
      "Epoch 13/15\n",
      "1946/1946 [==============================] - 1s 701us/step - loss: 0.1168 - accuracy: 0.9535\n",
      "Epoch 14/15\n",
      "1946/1946 [==============================] - 1s 701us/step - loss: 0.1148 - accuracy: 0.9545\n",
      "Epoch 15/15\n",
      "1946/1946 [==============================] - 1s 719us/step - loss: 0.1166 - accuracy: 0.9535\n",
      "              precision    recall  f1-score   support\n",
      "\n",
      "           0       0.87      0.96      0.91      3098\n",
      "           1       0.80      0.53      0.64       973\n",
      "\n",
      "    accuracy                           0.86      4071\n",
      "   macro avg       0.83      0.74      0.77      4071\n",
      "weighted avg       0.85      0.86      0.85      4071\n",
      "\n"
     ]
    }
   ],
   "source": [
    "# train CNN-LSTM\n",
    "model_cnn_lstm.fit(x_train_padded, cat_train_tags_y, epochs=15, batch_size=32)\n",
    "\n",
    "    \n",
    "y_pred_padded = np.argmax(model_cnn_lstm.predict(x_test_padded),axis = 2)\n",
    "y_pred = []\n",
    "for idx,patient in enumerate(y_test):\n",
    "    y_pred.append(y_pred_padded[idx][:len(patient)])\n",
    "\n",
    "y_pred = np.concatenate(y_pred)\n",
    "y_test_flatten = np.concatenate(y_test)\n",
    "\n",
    "from sklearn.metrics import classification_report\n",
    "print(classification_report(y_test_flatten,y_pred))"
   ]
  },
  {
   "cell_type": "code",
   "execution_count": 52,
   "metadata": {},
   "outputs": [
    {
     "name": "stdout",
     "output_type": "stream",
     "text": [
      "Model: \"model_10\"\n",
      "__________________________________________________________________________________________________\n",
      "Layer (type)                    Output Shape         Param #     Connected to                     \n",
      "==================================================================================================\n",
      "input_10 (InputLayer)           (None, 25, 31)       0                                            \n",
      "__________________________________________________________________________________________________\n",
      "conv1d_33 (Conv1D)              (None, 25, 64)       4032        input_10[0][0]                   \n",
      "__________________________________________________________________________________________________\n",
      "conv1d_34 (Conv1D)              (None, 25, 64)       12352       conv1d_33[0][0]                  \n",
      "__________________________________________________________________________________________________\n",
      "max_pooling1d_8 (MaxPooling1D)  (None, 25, 32)       0           conv1d_34[0][0]                  \n",
      "__________________________________________________________________________________________________\n",
      "conv1d_35 (Conv1D)              (None, 25, 128)      16512       max_pooling1d_8[0][0]            \n",
      "__________________________________________________________________________________________________\n",
      "conv1d_36 (Conv1D)              (None, 25, 128)      82048       conv1d_35[0][0]                  \n",
      "__________________________________________________________________________________________________\n",
      "dense_25 (Dense)                (None, 25, 31)       3999        conv1d_36[0][0]                  \n",
      "__________________________________________________________________________________________________\n",
      "add_10 (Add)                    (None, 25, 31)       0           dense_25[0][0]                   \n",
      "                                                                 input_10[0][0]                   \n",
      "__________________________________________________________________________________________________\n",
      "bidirectional_14 (Bidirectional (None, 25, 256)      122880      add_10[0][0]                     \n",
      "__________________________________________________________________________________________________\n",
      "time_distributed_15 (TimeDistri (None, 25, 2)        514         bidirectional_14[0][0]           \n",
      "__________________________________________________________________________________________________\n",
      "activation_16 (Activation)      (None, 25, 2)        0           time_distributed_15[0][0]        \n",
      "==================================================================================================\n",
      "Total params: 242,337\n",
      "Trainable params: 242,337\n",
      "Non-trainable params: 0\n",
      "__________________________________________________________________________________________________\n",
      "None\n"
     ]
    }
   ],
   "source": [
    "inputs = Input(shape=(max_seq_len, dimension,))\n",
    "x = Conv1D(filters=64, kernel_size=2, padding='same', activation='relu')(inputs)\n",
    "x = Conv1D(filters=64, kernel_size=3, padding='same', activation='relu')(x)\n",
    "x = MaxPooling1D(pool_size=2, data_format='channels_first')(x)\n",
    "x = Conv1D(filters=128, kernel_size=4, padding='same', activation='relu')(x)\n",
    "x = Conv1D(filters=128, kernel_size=5, padding='same', activation='relu')(x)\n",
    "x = Dense(dimension)(x)\n",
    "x = keras.layers.add([x,inputs])\n",
    "x = Bidirectional(GRU(128, input_shape=(max_seq_len, dimension), return_sequences=True))(x)\n",
    "x = TimeDistributed(Dense(2))(x)\n",
    "predictions = Activation('softmax')(x)\n",
    "\n",
    "model_cnn_gru = Model(inputs=inputs, outputs=predictions)\n",
    "model_cnn_gru.compile(optimizer=Adam(0.001),\n",
    "              loss='categorical_crossentropy',\n",
    "              metrics=['accuracy'])\n",
    "print(model_cnn_gru.summary())"
   ]
  },
  {
   "cell_type": "code",
   "execution_count": 31,
   "metadata": {},
   "outputs": [
    {
     "name": "stdout",
     "output_type": "stream",
     "text": [
      "Epoch 1/15\n",
      "1946/1946 [==============================] - 2s 998us/step - loss: 0.2075 - accuracy: 0.9251\n",
      "Epoch 2/15\n",
      "1946/1946 [==============================] - 1s 722us/step - loss: 0.1265 - accuracy: 0.9497\n",
      "Epoch 3/15\n",
      "1946/1946 [==============================] - 1s 730us/step - loss: 0.1271 - accuracy: 0.9502\n",
      "Epoch 4/15\n",
      "1946/1946 [==============================] - 1s 729us/step - loss: 0.1277 - accuracy: 0.9484\n",
      "Epoch 5/15\n",
      "1946/1946 [==============================] - 1s 721us/step - loss: 0.1222 - accuracy: 0.9520\n",
      "Epoch 6/15\n",
      "1946/1946 [==============================] - 1s 725us/step - loss: 0.1208 - accuracy: 0.9525\n",
      "Epoch 7/15\n",
      "1946/1946 [==============================] - 1s 747us/step - loss: 0.1205 - accuracy: 0.9521\n",
      "Epoch 8/15\n",
      "1946/1946 [==============================] - 1s 741us/step - loss: 0.1199 - accuracy: 0.9525\n",
      "Epoch 9/15\n",
      "1946/1946 [==============================] - 1s 757us/step - loss: 0.1188 - accuracy: 0.9531\n",
      "Epoch 10/15\n",
      "1946/1946 [==============================] - 1s 758us/step - loss: 0.1165 - accuracy: 0.9546\n",
      "Epoch 11/15\n",
      "1946/1946 [==============================] - 1s 729us/step - loss: 0.1161 - accuracy: 0.9551\n",
      "Epoch 12/15\n",
      "1946/1946 [==============================] - 1s 730us/step - loss: 0.1163 - accuracy: 0.9544\n",
      "Epoch 13/15\n",
      "1946/1946 [==============================] - 1s 735us/step - loss: 0.1165 - accuracy: 0.9537\n",
      "Epoch 14/15\n",
      "1946/1946 [==============================] - 1s 731us/step - loss: 0.1134 - accuracy: 0.9551\n",
      "Epoch 15/15\n",
      "1946/1946 [==============================] - 1s 734us/step - loss: 0.1129 - accuracy: 0.9557\n",
      "              precision    recall  f1-score   support\n",
      "\n",
      "           0       0.87      0.94      0.91      3098\n",
      "           1       0.75      0.56      0.64       973\n",
      "\n",
      "    accuracy                           0.85      4071\n",
      "   macro avg       0.81      0.75      0.77      4071\n",
      "weighted avg       0.84      0.85      0.84      4071\n",
      "\n"
     ]
    }
   ],
   "source": [
    "# train CNN-GRU\n",
    "model_cnn_gru.fit(x_train_padded, cat_train_tags_y, epochs=10, batch_size=32)\n",
    "    \n",
    "y_pred_padded = np.argmax(model_cnn_gru.predict(x_test_padded),axis = 2)\n",
    "y_pred = []\n",
    "for idx,patient in enumerate(y_test):\n",
    "    y_pred.append(y_pred_padded[idx][:len(patient)])\n",
    "\n",
    "y_pred = np.concatenate(y_pred)\n",
    "y_test_flatten = np.concatenate(y_test)\n",
    "\n",
    "from sklearn.metrics import classification_report\n",
    "print(classification_report(y_test_flatten,y_pred))"
   ]
  },
  {
   "cell_type": "code",
   "execution_count": 32,
   "metadata": {},
   "outputs": [
    {
     "name": "stdout",
     "output_type": "stream",
     "text": [
      "Model: \"model_9\"\n",
      "__________________________________________________________________________________________________\n",
      "Layer (type)                    Output Shape         Param #     Connected to                     \n",
      "==================================================================================================\n",
      "input_9 (InputLayer)            (None, 25, 31)       0                                            \n",
      "__________________________________________________________________________________________________\n",
      "masking_1 (Masking)             (None, 25, 31)       0           input_9[0][0]                    \n",
      "__________________________________________________________________________________________________\n",
      "batch_normalization_1 (BatchNor (None, 25, 31)       100         masking_1[0][0]                  \n",
      "__________________________________________________________________________________________________\n",
      "bidirectional_8 (Bidirectional) (None, 25, 512)      589824      batch_normalization_1[0][0]      \n",
      "__________________________________________________________________________________________________\n",
      "dense_17 (Dense)                (None, 25, 31)       15903       bidirectional_8[0][0]            \n",
      "__________________________________________________________________________________________________\n",
      "add_9 (Add)                     (None, 25, 31)       0           batch_normalization_1[0][0]      \n",
      "                                                                 dense_17[0][0]                   \n",
      "__________________________________________________________________________________________________\n",
      "bidirectional_9 (Bidirectional) (None, 25, 512)      442368      add_9[0][0]                      \n",
      "__________________________________________________________________________________________________\n",
      "time_distributed_8 (TimeDistrib (None, 25, 2)        1026        bidirectional_9[0][0]            \n",
      "__________________________________________________________________________________________________\n",
      "activation_9 (Activation)       (None, 25, 2)        0           time_distributed_8[0][0]         \n",
      "==================================================================================================\n",
      "Total params: 1,049,221\n",
      "Trainable params: 1,049,171\n",
      "Non-trainable params: 50\n",
      "__________________________________________________________________________________________________\n",
      "None\n"
     ]
    }
   ],
   "source": [
    "# This returns a tensor\n",
    "inputs = Input(shape=(max_seq_len, dimension,))\n",
    "\n",
    "x = Masking(mask_value=special_value, input_shape=(max_seq_len, dimension))(inputs)\n",
    "x_org = BatchNormalization(axis = 1)(x)\n",
    "x = Bidirectional(LSTM(256, input_shape=(max_seq_len, dimension), return_sequences=True))(x_org)\n",
    "x = Dense(dimension)(x)\n",
    "x = keras.layers.add([x_org,x])\n",
    "x = Bidirectional(GRU(256, input_shape=(max_seq_len, dimension), return_sequences=True))(x)\n",
    "x = TimeDistributed(Dense(2))(x)\n",
    "predictions = Activation('softmax')(x)\n",
    "\n",
    "model_res_lstm = Model(inputs=inputs, outputs=predictions)\n",
    "model_res_lstm.compile(optimizer=Adam(0.001),\n",
    "              loss='categorical_crossentropy',\n",
    "              metrics=['accuracy'])\n",
    "print(model_res_lstm.summary())"
   ]
  },
  {
   "cell_type": "code",
   "execution_count": 34,
   "metadata": {},
   "outputs": [
    {
     "name": "stdout",
     "output_type": "stream",
     "text": [
      "Epoch 1/5\n",
      "1946/1946 [==============================] - 6s 3ms/step - loss: 0.1215 - accuracy: 0.8637\n",
      "Epoch 2/5\n",
      "1946/1946 [==============================] - 6s 3ms/step - loss: 0.1184 - accuracy: 0.8669\n",
      "Epoch 3/5\n",
      "1946/1946 [==============================] - 6s 3ms/step - loss: 0.1171 - accuracy: 0.8669\n",
      "Epoch 4/5\n",
      "1946/1946 [==============================] - 6s 3ms/step - loss: 0.1159 - accuracy: 0.8709\n",
      "Epoch 5/5\n",
      "1946/1946 [==============================] - 6s 3ms/step - loss: 0.1134 - accuracy: 0.8698\n",
      "488/488 [==============================] - 0s 759us/step\n",
      "accuracy: 83.98427963256836\n",
      "loss: 13.139473414811931\n",
      "accuracy: 83.98427963256836\n",
      "              precision    recall  f1-score   support\n",
      "\n",
      "           0       0.87      0.93      0.90      3098\n",
      "           1       0.71      0.56      0.63       973\n",
      "\n",
      "    accuracy                           0.84      4071\n",
      "   macro avg       0.79      0.74      0.76      4071\n",
      "weighted avg       0.83      0.84      0.83      4071\n",
      "\n"
     ]
    }
   ],
   "source": [
    "# train res LSTM\n",
    "model = model_res_lstm\n",
    "model.fit(x_train_padded, cat_train_tags_y, epochs=5, batch_size=32)\n",
    "\n",
    "scores = model.evaluate(x_test_padded, cat_test_tags_y)\n",
    "print(f\"{model.metrics_names[1]}: {scores[1] * 100}\")   \n",
    "\n",
    "for i in range(len(model.metrics_names)):\n",
    "    print(f\"{model.metrics_names[i]}: {scores[i] * 100}\") \n",
    "    \n",
    "y_pred_padded = np.argmax(model.predict(x_test_padded),axis = 2)\n",
    "y_pred = []\n",
    "for idx,patient in enumerate(y_test):\n",
    "    y_pred.append(y_pred_padded[idx][:len(patient)])\n",
    "\n",
    "y_pred = np.concatenate(y_pred)\n",
    "y_test_flatten = np.concatenate(y_test)\n",
    "\n",
    "from sklearn.metrics import classification_report\n",
    "print(classification_report(y_test_flatten,y_pred))"
   ]
  },
  {
   "cell_type": "code",
   "execution_count": 53,
   "metadata": {},
   "outputs": [
    {
     "name": "stdout",
     "output_type": "stream",
     "text": [
      "Model: \"sequential_7\"\n",
      "_________________________________________________________________\n",
      "Layer (type)                 Output Shape              Param #   \n",
      "=================================================================\n",
      "masking_8 (Masking)          (None, 25, 31)            0         \n",
      "_________________________________________________________________\n",
      "batch_normalization_6 (Batch (None, 25, 31)            100       \n",
      "_________________________________________________________________\n",
      "bidirectional_15 (Bidirectio (None, 25, 512)           147456    \n",
      "_________________________________________________________________\n",
      "time_distributed_16 (TimeDis (None, 25, 2)             1026      \n",
      "_________________________________________________________________\n",
      "activation_17 (Activation)   (None, 25, 2)             0         \n",
      "=================================================================\n",
      "Total params: 148,582\n",
      "Trainable params: 148,532\n",
      "Non-trainable params: 50\n",
      "_________________________________________________________________\n",
      "None\n"
     ]
    }
   ],
   "source": [
    "model_rnn = Sequential()\n",
    "model_rnn.add(Masking(mask_value=special_value, input_shape=(max_seq_len, dimension)))\n",
    "model_rnn.add(BatchNormalization(axis = 1))\n",
    "model_rnn.add(Bidirectional(SimpleRNN(256, input_shape=(max_seq_len, dimension), return_sequences=True)))\n",
    "model_rnn.add(TimeDistributed(Dense(2)))\n",
    "model_rnn.add(Activation('softmax'))\n",
    "\n",
    "model_rnn.compile(loss='categorical_crossentropy',\n",
    "              optimizer=Adam(0.001),\n",
    "              metrics=['accuracy'])\n",
    "print(model_rnn.summary())"
   ]
  },
  {
   "cell_type": "code",
   "execution_count": 54,
   "metadata": {},
   "outputs": [
    {
     "name": "stdout",
     "output_type": "stream",
     "text": [
      "Epoch 1/5\n",
      "1946/1946 [==============================] - 1s 717us/step - loss: 0.1752 - accuracy: 0.7889\n",
      "Epoch 2/5\n",
      "1946/1946 [==============================] - 1s 393us/step - loss: 0.1400 - accuracy: 0.8349\n",
      "Epoch 3/5\n",
      "1946/1946 [==============================] - 1s 397us/step - loss: 0.1293 - accuracy: 0.8513\n",
      "Epoch 4/5\n",
      "1946/1946 [==============================] - 1s 395us/step - loss: 0.1271 - accuracy: 0.8567\n",
      "Epoch 5/5\n",
      "1946/1946 [==============================] - 1s 393us/step - loss: 0.1242 - accuracy: 0.8583\n",
      "488/488 [==============================] - 0s 322us/step\n",
      "accuracy: 83.81233215332031\n",
      "              precision    recall  f1-score   support\n",
      "\n",
      "           0       0.87      0.92      0.90      3098\n",
      "           1       0.70      0.57      0.63       973\n",
      "\n",
      "    accuracy                           0.84      4071\n",
      "   macro avg       0.79      0.74      0.76      4071\n",
      "weighted avg       0.83      0.84      0.83      4071\n",
      "\n"
     ]
    }
   ],
   "source": [
    "# train rnn\n",
    "model_rnn.fit(x_train_padded, cat_train_tags_y, epochs=5, batch_size=32)\n",
    "\n",
    "scores = model_rnn.evaluate(x_test_padded, cat_test_tags_y)\n",
    "print(f\"{model_rnn.metrics_names[1]}: {scores[1] * 100}\")   \n",
    "\n",
    "y_pred_padded = np.argmax(model_rnn.predict(x_test_padded),axis = 2)\n",
    "y_pred = []\n",
    "for idx,patient in enumerate(y_test):\n",
    "    y_pred.append(y_pred_padded[idx][:len(patient)])\n",
    "\n",
    "y_pred = np.concatenate(y_pred)\n",
    "y_test_flatten = np.concatenate(y_test)\n",
    "\n",
    "from sklearn.metrics import classification_report\n",
    "print(classification_report(y_test_flatten,y_pred))"
   ]
  },
  {
   "cell_type": "code",
   "execution_count": 49,
   "metadata": {},
   "outputs": [
    {
     "name": "stdout",
     "output_type": "stream",
     "text": [
      "Model: \"sequential_6\"\n",
      "_________________________________________________________________\n",
      "Layer (type)                 Output Shape              Param #   \n",
      "=================================================================\n",
      "masking_7 (Masking)          (None, 25, 31)            0         \n",
      "_________________________________________________________________\n",
      "bidirectional_13 (Bidirectio (None, 25, 512)           589824    \n",
      "_________________________________________________________________\n",
      "time_distributed_14 (TimeDis (None, 25, 2)             1026      \n",
      "_________________________________________________________________\n",
      "activation_15 (Activation)   (None, 25, 2)             0         \n",
      "=================================================================\n",
      "Total params: 590,850\n",
      "Trainable params: 590,850\n",
      "Non-trainable params: 0\n",
      "_________________________________________________________________\n",
      "None\n"
     ]
    }
   ],
   "source": [
    "model_lstm = Sequential()\n",
    "model_lstm.add(Masking(mask_value=special_value, input_shape=(max_seq_len, dimension)))\n",
    "# model_lstm.add(BatchNormalization(axis = 1))\n",
    "model_lstm.add(Bidirectional(LSTM(256, input_shape=(max_seq_len, dimension), return_sequences=True)))\n",
    "# model.add(Dense(32))\n",
    "model_lstm.add(TimeDistributed(Dense(2)))\n",
    "model_lstm.add(Activation('softmax'))\n",
    " \n",
    "model_lstm.compile(loss='categorical_crossentropy',\n",
    "              optimizer=Adam(0.001),\n",
    "              metrics=['accuracy'])\n",
    "print(model_lstm.summary())"
   ]
  },
  {
   "cell_type": "code",
   "execution_count": 51,
   "metadata": {},
   "outputs": [
    {
     "name": "stdout",
     "output_type": "stream",
     "text": [
      "Epoch 1/5\n",
      "1946/1946 [==============================] - 3s 1ms/step - loss: 0.1211 - accuracy: 0.8631\n",
      "Epoch 2/5\n",
      "1946/1946 [==============================] - 3s 1ms/step - loss: 0.1198 - accuracy: 0.8624\n",
      "Epoch 3/5\n",
      "1946/1946 [==============================] - 3s 1ms/step - loss: 0.1201 - accuracy: 0.8626\n",
      "Epoch 4/5\n",
      "1946/1946 [==============================] - 3s 1ms/step - loss: 0.1171 - accuracy: 0.8670\n",
      "Epoch 5/5\n",
      "1946/1946 [==============================] - 3s 1ms/step - loss: 0.1176 - accuracy: 0.8652\n",
      "488/488 [==============================] - 0s 433us/step\n",
      "accuracy: 85.45811772346497\n",
      "loss: 12.510176442685674\n",
      "accuracy: 85.45811772346497\n",
      "              precision    recall  f1-score   support\n",
      "\n",
      "           0       0.87      0.96      0.91      3098\n",
      "           1       0.79      0.53      0.64       973\n",
      "\n",
      "    accuracy                           0.85      4071\n",
      "   macro avg       0.83      0.74      0.77      4071\n",
      "weighted avg       0.85      0.85      0.84      4071\n",
      "\n"
     ]
    }
   ],
   "source": [
    "# train LSTM\n",
    "model_lstm.fit(x_train_padded, cat_train_tags_y, epochs=5, batch_size=32)\n",
    "\n",
    "scores = model_lstm.evaluate(x_test_padded, cat_test_tags_y)\n",
    "print(f\"{model_lstm.metrics_names[1]}: {scores[1] * 100}\")   \n",
    "\n",
    "for i in range(len(model_lstm.metrics_names)):\n",
    "    print(f\"{model_lstm.metrics_names[i]}: {scores[i] * 100}\") \n",
    "    \n",
    "y_pred_padded = np.argmax(model_lstm.predict(x_test_padded),axis = 2)\n",
    "y_pred = []\n",
    "for idx,patient in enumerate(y_test):\n",
    "    y_pred.append(y_pred_padded[idx][:len(patient)])\n",
    "\n",
    "y_pred = np.concatenate(y_pred)\n",
    "y_test_flatten = np.concatenate(y_test)\n",
    "\n",
    "from sklearn.metrics import classification_report\n",
    "print(classification_report(y_test_flatten,y_pred))"
   ]
  },
  {
   "cell_type": "code",
   "execution_count": 47,
   "metadata": {},
   "outputs": [
    {
     "name": "stdout",
     "output_type": "stream",
     "text": [
      "Model: \"sequential_5\"\n",
      "_________________________________________________________________\n",
      "Layer (type)                 Output Shape              Param #   \n",
      "=================================================================\n",
      "masking_6 (Masking)          (None, 25, 31)            0         \n",
      "_________________________________________________________________\n",
      "bidirectional_12 (Bidirectio (None, 25, 512)           442368    \n",
      "_________________________________________________________________\n",
      "time_distributed_13 (TimeDis (None, 25, 2)             1026      \n",
      "_________________________________________________________________\n",
      "activation_14 (Activation)   (None, 25, 2)             0         \n",
      "=================================================================\n",
      "Total params: 443,394\n",
      "Trainable params: 443,394\n",
      "Non-trainable params: 0\n",
      "_________________________________________________________________\n",
      "None\n"
     ]
    }
   ],
   "source": [
    "model_gru = Sequential()\n",
    "model_gru.add(Masking(mask_value=special_value, input_shape=(max_seq_len, dimension)))\n",
    "model_gru.add(Bidirectional(GRU(256, input_shape=(max_seq_len, dimension), return_sequences=True)))\n",
    "# model.add(Dense(32))\n",
    "model_gru.add(TimeDistributed(Dense(2)))\n",
    "model_gru.add(Activation('softmax'))\n",
    " \n",
    "model_gru.compile(loss='categorical_crossentropy',\n",
    "              optimizer=Adam(0.001),\n",
    "              metrics=['accuracy'])\n",
    "print(model_gru.summary())"
   ]
  },
  {
   "cell_type": "code",
   "execution_count": 48,
   "metadata": {},
   "outputs": [
    {
     "name": "stdout",
     "output_type": "stream",
     "text": [
      "Epoch 1/5\n",
      "1946/1946 [==============================] - 4s 2ms/step - loss: 0.1628 - accuracy: 0.7984\n",
      "Epoch 2/5\n",
      "1946/1946 [==============================] - 3s 2ms/step - loss: 0.1279 - accuracy: 0.8548\n",
      "Epoch 3/5\n",
      "1946/1946 [==============================] - 3s 2ms/step - loss: 0.1238 - accuracy: 0.8612\n",
      "Epoch 4/5\n",
      "1946/1946 [==============================] - 3s 2ms/step - loss: 0.1260 - accuracy: 0.8584\n",
      "Epoch 5/5\n",
      "1946/1946 [==============================] - 3s 2ms/step - loss: 0.1237 - accuracy: 0.8587\n",
      "488/488 [==============================] - 0s 577us/step\n",
      "accuracy: 84.64750647544861\n",
      "loss: 12.616911457210293\n",
      "accuracy: 84.64750647544861\n",
      "              precision    recall  f1-score   support\n",
      "\n",
      "           0       0.87      0.94      0.90      3098\n",
      "           1       0.73      0.56      0.64       973\n",
      "\n",
      "    accuracy                           0.85      4071\n",
      "   macro avg       0.80      0.75      0.77      4071\n",
      "weighted avg       0.84      0.85      0.84      4071\n",
      "\n"
     ]
    }
   ],
   "source": [
    "# train GRU\n",
    "model_gru.fit(x_train_padded, cat_train_tags_y, epochs=5, batch_size=32)\n",
    "\n",
    "scores = model_gru.evaluate(x_test_padded, cat_test_tags_y)\n",
    "print(f\"{model_gru.metrics_names[1]}: {scores[1] * 100}\")   \n",
    "\n",
    "for i in range(len(model_gru.metrics_names)):\n",
    "    print(f\"{model_gru.metrics_names[i]}: {scores[i] * 100}\") \n",
    "    \n",
    "y_pred_padded = np.argmax(model_gru.predict(x_test_padded),axis = 2)\n",
    "y_pred = []\n",
    "for idx,patient in enumerate(y_test):\n",
    "    y_pred.append(y_pred_padded[idx][:len(patient)])\n",
    "\n",
    "y_pred = np.concatenate(y_pred)\n",
    "y_test_flatten = np.concatenate(y_test)\n",
    "\n",
    "from sklearn.metrics import classification_report\n",
    "print(classification_report(y_test_flatten,y_pred))"
   ]
  },
  {
   "cell_type": "code",
   "execution_count": null,
   "metadata": {},
   "outputs": [],
   "source": []
  }
 ],
 "metadata": {
  "kernelspec": {
   "display_name": "Python 3",
   "language": "python",
   "name": "python3"
  },
  "language_info": {
   "codemirror_mode": {
    "name": "ipython",
    "version": 3
   },
   "file_extension": ".py",
   "mimetype": "text/x-python",
   "name": "python",
   "nbconvert_exporter": "python",
   "pygments_lexer": "ipython3",
   "version": "3.7.3"
  }
 },
 "nbformat": 4,
 "nbformat_minor": 2
}
